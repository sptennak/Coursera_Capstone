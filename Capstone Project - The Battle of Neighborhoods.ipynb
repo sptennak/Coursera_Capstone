{
    "nbformat_minor": 1, 
    "cells": [
        {
            "execution_count": 1, 
            "cell_type": "code", 
            "metadata": {}, 
            "outputs": [], 
            "source": "# The code was removed by Watson Studio for sharing."
        }, 
        {
            "source": "# IBM Data Science Professional Certificate\n# Applied Data Science Capstone", 
            "cell_type": "markdown", 
            "metadata": {
                "collapsed": true
            }
        }, 
        {
            "source": "# Finding optimal locations to open restaurant/grocery businesses.", 
            "cell_type": "markdown", 
            "metadata": {}
        }, 
        {
            "source": "<hr/>\n\n## 1. Introduction\nAn international grocery and restaurant chain looking forward opening their business locations in the city of Toronto.  They wanted to identify optimum locations having maximum businesses potential and required to generate business intelligence to form a strategy in establishing their new business locations. \nIn the week 3 assignment we note that the Toronto city has 140 postal zip codes assigned to 103 different boroughs. This project will conduct analyzing population demographics, financial and household data in those neighborhoods and cluster them based on their similarity. It will also find the existing venues creating competition (e.g. Restaurants, Grocery stores) and other venues in the proximity which adds new businesses opportunities.\n", 
            "cell_type": "markdown", 
            "metadata": {}
        }, 
        {
            "source": "## 2. Data\n\n### Data Sources\n\n#### Source #1: City of Toronto\u2019s Open Data Catalogue\nURL: https://www.toronto.ca/city-government/data-research-maps/open-data/open-data-catalogue/\nThe data from Open Data Catalogue will be used to cluster neighborhoods based on their similarity characteristics. This will help the business to group neighborhoods when forming custom business strategies to their targeted neighborhoods. This data will also be used in finding the optimum business locations. \n\n#### Source #2: Datasets used in the Week3 Assignment, Neighborhood Segmentation and Clustering\nThis neighbourhood and postal codes dataset is created from Scraping Wikipedia page: https://en.wikipedia.org/wiki/List_of_postal_codes_of_Canada:_M. The above dataset is joined with the location dataset provided in the Week3 Assignment (https://cocl.us/Geospatial_data).\n\nThe above source had some gaps maping city-designated neighbourhoods in Toronto to the geo locations. Therfore, another webscraping atmmept were done across number of Wikipedia pages starting from https://en.wikipedia.org/wiki/List_of_city-designated_neighbourhoods_in_Toronto. The geo locations were extracted from each Neighbourhood's Wikipedia page and from few of them had to do manual data entry after reffering to other sources.\n\n#### Source #3: Foursquare APIs location data\nURL: https://developer.foursquare.com \nThe foursquare dataset will be used to identify competitive business locations in each neighborhood (e.g. Grocery stores, restaurants) as well as venues which adds new businesses opportunities (e.g. Schools, Offices, Attractions, Shopping Malls, etc.).\n", 
            "cell_type": "markdown", 
            "metadata": {}
        }, 
        {
            "source": "### 2.1 Loading Datasets", 
            "cell_type": "markdown", 
            "metadata": {}
        }, 
        {
            "execution_count": 2, 
            "cell_type": "code", 
            "metadata": {}, 
            "outputs": [], 
            "source": "import pandas as pd\nimport numpy as np"
        }, 
        {
            "execution_count": 3, 
            "cell_type": "code", 
            "metadata": {}, 
            "outputs": [], 
            "source": "# The code was removed by Watson Studio for sharing."
        }, 
        {
            "source": "#### Source1: Neighbourhood Profile Data", 
            "cell_type": "markdown", 
            "metadata": {}
        }, 
        {
            "execution_count": 4, 
            "cell_type": "code", 
            "metadata": {}, 
            "outputs": [
                {
                    "execution_count": 4, 
                    "metadata": {}, 
                    "data": {
                        "text/html": "<div>\n<style scoped>\n    .dataframe tbody tr th:only-of-type {\n        vertical-align: middle;\n    }\n\n    .dataframe tbody tr th {\n        vertical-align: top;\n    }\n\n    .dataframe thead th {\n        text-align: right;\n    }\n</style>\n<table border=\"1\" class=\"dataframe\">\n  <thead>\n    <tr style=\"text-align: right;\">\n      <th></th>\n      <th>Category</th>\n      <th>Topic</th>\n      <th>Data Source</th>\n      <th>Characteristic</th>\n      <th>City of Toronto</th>\n      <th>Agincourt North</th>\n      <th>Agincourt South-Malvern West</th>\n      <th>Alderwood</th>\n      <th>Annex</th>\n      <th>Banbury-Don Mills</th>\n      <th>...</th>\n      <th>Willowdale West</th>\n      <th>Willowridge-Martingrove-Richview</th>\n      <th>Woburn</th>\n      <th>Woodbine Corridor</th>\n      <th>Woodbine-Lumsden</th>\n      <th>Wychwood</th>\n      <th>Yonge-Eglinton</th>\n      <th>Yonge-St.Clair</th>\n      <th>York University Heights</th>\n      <th>Yorkdale-Glen Park</th>\n    </tr>\n  </thead>\n  <tbody>\n    <tr>\n      <th>0</th>\n      <td>Neighbourhood Information</td>\n      <td>Neighbourhood Information</td>\n      <td>City of Toronto</td>\n      <td>Neighbourhood Number</td>\n      <td>NaN</td>\n      <td>129</td>\n      <td>128</td>\n      <td>20</td>\n      <td>95</td>\n      <td>42</td>\n      <td>...</td>\n      <td>37</td>\n      <td>7</td>\n      <td>137</td>\n      <td>64</td>\n      <td>60</td>\n      <td>94</td>\n      <td>100</td>\n      <td>97</td>\n      <td>27</td>\n      <td>31</td>\n    </tr>\n    <tr>\n      <th>1</th>\n      <td>Neighbourhood Information</td>\n      <td>Neighbourhood Information</td>\n      <td>City of Toronto</td>\n      <td>TSNS2020 Designation</td>\n      <td>NaN</td>\n      <td>No Designation</td>\n      <td>No Designation</td>\n      <td>No Designation</td>\n      <td>No Designation</td>\n      <td>No Designation</td>\n      <td>...</td>\n      <td>No Designation</td>\n      <td>No Designation</td>\n      <td>NIA</td>\n      <td>No Designation</td>\n      <td>No Designation</td>\n      <td>No Designation</td>\n      <td>No Designation</td>\n      <td>No Designation</td>\n      <td>NIA</td>\n      <td>Emerging Neighbourhood</td>\n    </tr>\n    <tr>\n      <th>2</th>\n      <td>Population</td>\n      <td>Population and dwellings</td>\n      <td>Census Profile 98-316-X2016001</td>\n      <td>Population, 2016</td>\n      <td>2731571.000</td>\n      <td>29113</td>\n      <td>23757</td>\n      <td>12054</td>\n      <td>30526</td>\n      <td>27695</td>\n      <td>...</td>\n      <td>16936</td>\n      <td>22156</td>\n      <td>53485</td>\n      <td>12541</td>\n      <td>7865</td>\n      <td>14349</td>\n      <td>11817</td>\n      <td>12528</td>\n      <td>27593</td>\n      <td>14804</td>\n    </tr>\n    <tr>\n      <th>3</th>\n      <td>Population</td>\n      <td>Population and dwellings</td>\n      <td>Census Profile 98-316-X2016001</td>\n      <td>Population, 2011</td>\n      <td>2615060.000</td>\n      <td>30279</td>\n      <td>21988</td>\n      <td>11904</td>\n      <td>29177</td>\n      <td>26918</td>\n      <td>...</td>\n      <td>15004</td>\n      <td>21343</td>\n      <td>53350</td>\n      <td>11703</td>\n      <td>7826</td>\n      <td>13986</td>\n      <td>10578</td>\n      <td>11652</td>\n      <td>27713</td>\n      <td>14687</td>\n    </tr>\n    <tr>\n      <th>4</th>\n      <td>Population</td>\n      <td>Population and dwellings</td>\n      <td>Census Profile 98-316-X2016001</td>\n      <td>Population Change 2011-2016</td>\n      <td>0.045</td>\n      <td>-0.039</td>\n      <td>0.08</td>\n      <td>0.013</td>\n      <td>0.046</td>\n      <td>0.029</td>\n      <td>...</td>\n      <td>0.129</td>\n      <td>0.038</td>\n      <td>0.003</td>\n      <td>0.072</td>\n      <td>0.005</td>\n      <td>0.026</td>\n      <td>0.117</td>\n      <td>0.075</td>\n      <td>-0.004</td>\n      <td>0.008</td>\n    </tr>\n  </tbody>\n</table>\n<p>5 rows \u00d7 145 columns</p>\n</div>", 
                        "text/plain": "                    Category                      Topic  \\\n0  Neighbourhood Information  Neighbourhood Information   \n1  Neighbourhood Information  Neighbourhood Information   \n2                 Population   Population and dwellings   \n3                 Population   Population and dwellings   \n4                 Population   Population and dwellings   \n\n                      Data Source               Characteristic  \\\n0                 City of Toronto         Neighbourhood Number   \n1                 City of Toronto         TSNS2020 Designation   \n2  Census Profile 98-316-X2016001             Population, 2016   \n3  Census Profile 98-316-X2016001             Population, 2011   \n4  Census Profile 98-316-X2016001  Population Change 2011-2016   \n\n   City of Toronto Agincourt North Agincourt South-Malvern West  \\\n0              NaN             129                          128   \n1              NaN  No Designation               No Designation   \n2      2731571.000           29113                        23757   \n3      2615060.000           30279                        21988   \n4            0.045          -0.039                         0.08   \n\n        Alderwood           Annex Banbury-Don Mills           ...            \\\n0              20              95                42           ...             \n1  No Designation  No Designation    No Designation           ...             \n2           12054           30526             27695           ...             \n3           11904           29177             26918           ...             \n4           0.013           0.046             0.029           ...             \n\n  Willowdale West Willowridge-Martingrove-Richview Woburn Woodbine Corridor  \\\n0              37                                7    137                64   \n1  No Designation                   No Designation    NIA    No Designation   \n2           16936                            22156  53485             12541   \n3           15004                            21343  53350             11703   \n4           0.129                            0.038  0.003             0.072   \n\n  Woodbine-Lumsden        Wychwood  Yonge-Eglinton  Yonge-St.Clair  \\\n0               60              94             100              97   \n1   No Designation  No Designation  No Designation  No Designation   \n2             7865           14349           11817           12528   \n3             7826           13986           10578           11652   \n4            0.005           0.026           0.117           0.075   \n\n  York University Heights      Yorkdale-Glen Park  \n0                      27                      31  \n1                     NIA  Emerging Neighbourhood  \n2                   27593                   14804  \n3                   27713                   14687  \n4                  -0.004                   0.008  \n\n[5 rows x 145 columns]"
                    }, 
                    "output_type": "execute_result"
                }
            ], 
            "source": "# The code was removed by Watson Studio for sharing."
        }, 
        {
            "source": "#### Source2: Geo Location Data", 
            "cell_type": "markdown", 
            "metadata": {}
        }, 
        {
            "execution_count": 5, 
            "cell_type": "code", 
            "metadata": {}, 
            "outputs": [
                {
                    "execution_count": 5, 
                    "metadata": {}, 
                    "data": {
                        "text/html": "<div>\n<style scoped>\n    .dataframe tbody tr th:only-of-type {\n        vertical-align: middle;\n    }\n\n    .dataframe tbody tr th {\n        vertical-align: top;\n    }\n\n    .dataframe thead th {\n        text-align: right;\n    }\n</style>\n<table border=\"1\" class=\"dataframe\">\n  <thead>\n    <tr style=\"text-align: right;\">\n      <th></th>\n      <th>Postal Code</th>\n      <th>Borough</th>\n      <th>Neighbourhood</th>\n      <th>Latitude</th>\n      <th>Longitude</th>\n    </tr>\n  </thead>\n  <tbody>\n    <tr>\n      <th>2</th>\n      <td>M3A</td>\n      <td>North York</td>\n      <td>Parkwoods</td>\n      <td>43.753259</td>\n      <td>-79.329656</td>\n    </tr>\n    <tr>\n      <th>3</th>\n      <td>M4A</td>\n      <td>North York</td>\n      <td>Victoria Village</td>\n      <td>43.725882</td>\n      <td>-79.315572</td>\n    </tr>\n    <tr>\n      <th>4</th>\n      <td>M5A</td>\n      <td>Downtown Toronto</td>\n      <td>Harbourfront</td>\n      <td>43.654260</td>\n      <td>-79.360636</td>\n    </tr>\n    <tr>\n      <th>5</th>\n      <td>M5A</td>\n      <td>Downtown Toronto</td>\n      <td>Regent Park</td>\n      <td>43.654260</td>\n      <td>-79.360636</td>\n    </tr>\n    <tr>\n      <th>6</th>\n      <td>M6A</td>\n      <td>North York</td>\n      <td>Lawrence Heights</td>\n      <td>43.718518</td>\n      <td>-79.464763</td>\n    </tr>\n  </tbody>\n</table>\n</div>", 
                        "text/plain": "  Postal Code           Borough     Neighbourhood   Latitude  Longitude\n2         M3A        North York         Parkwoods  43.753259 -79.329656\n3         M4A        North York  Victoria Village  43.725882 -79.315572\n4         M5A  Downtown Toronto      Harbourfront  43.654260 -79.360636\n5         M5A  Downtown Toronto       Regent Park  43.654260 -79.360636\n6         M6A        North York  Lawrence Heights  43.718518 -79.464763"
                    }, 
                    "output_type": "execute_result"
                }
            ], 
            "source": "# The code was removed by Watson Studio for sharing."
        }, 
        {
            "source": "#### Location Data From Web Scrapping", 
            "cell_type": "markdown", 
            "metadata": {}
        }, 
        {
            "execution_count": 6, 
            "cell_type": "code", 
            "metadata": {}, 
            "outputs": [], 
            "source": "from bs4 import BeautifulSoup\nimport requests\nimport nltk\nimport re"
        }, 
        {
            "execution_count": 7, 
            "cell_type": "code", 
            "metadata": {}, 
            "outputs": [
                {
                    "execution_count": 7, 
                    "metadata": {}, 
                    "data": {
                        "text/html": "<div>\n<style scoped>\n    .dataframe tbody tr th:only-of-type {\n        vertical-align: middle;\n    }\n\n    .dataframe tbody tr th {\n        vertical-align: top;\n    }\n\n    .dataframe thead th {\n        text-align: right;\n    }\n</style>\n<table border=\"1\" class=\"dataframe\">\n  <thead>\n    <tr style=\"text-align: right;\">\n      <th></th>\n      <th>NeighbourhoodId</th>\n      <th>Neighbourhood</th>\n      <th>Former city/borough</th>\n      <th>Neighbourhoods covered</th>\n    </tr>\n  </thead>\n  <tbody>\n    <tr>\n      <th>0</th>\n      <td>129</td>\n      <td>Agincourt North</td>\n      <td>Scarborough</td>\n      <td>Agincourt  and Brimwood</td>\n    </tr>\n    <tr>\n      <th>1</th>\n      <td>128</td>\n      <td>Agincourt South-Malvern West</td>\n      <td>Scarborough</td>\n      <td>Agincourt  and  Malvern</td>\n    </tr>\n    <tr>\n      <th>2</th>\n      <td>20</td>\n      <td>Alderwood</td>\n      <td>Etobicoke</td>\n      <td>Alderwood</td>\n    </tr>\n    <tr>\n      <th>3</th>\n      <td>95</td>\n      <td>Annex</td>\n      <td>Old City of Toronto</td>\n      <td>The Annex  and  Seaton Village</td>\n    </tr>\n    <tr>\n      <th>4</th>\n      <td>42</td>\n      <td>Banbury-Don Mills</td>\n      <td>North York</td>\n      <td>Don Mills</td>\n    </tr>\n  </tbody>\n</table>\n</div>", 
                        "text/plain": "   NeighbourhoodId                 Neighbourhood  Former city/borough  \\\n0              129               Agincourt North          Scarborough   \n1              128  Agincourt South-Malvern West          Scarborough   \n2               20                     Alderwood            Etobicoke   \n3               95                         Annex  Old City of Toronto   \n4               42             Banbury-Don Mills           North York   \n\n           Neighbourhoods covered  \n0         Agincourt  and Brimwood  \n1         Agincourt  and  Malvern  \n2                       Alderwood  \n3  The Annex  and  Seaton Village  \n4                       Don Mills  "
                    }, 
                    "output_type": "execute_result"
                }
            ], 
            "source": "designated_neighbourhoods = r'https://en.wikipedia.org/wiki/List_of_city-designated_neighbourhoods_in_Toronto'\nsource = requests.get(designated_neighbourhoods).text\nsoup = BeautifulSoup(source, 'lxml')\ntableStr = soup.find('table').prettify() # Returns HTML table tag as a string\ndf = pd.read_html(tableStr, match='str', header=0) # Returns a list of dataframes from tables tags in the input string. header=0 is denote the first row conatins the column lables.\nNeighbourhoodInfo = df[0] # First dataframe in the list\nNeighbourhoodInfo.columns = ['NeighbourhoodId', 'Neighbourhood', 'Former city/borough', 'Neighbourhoods covered', 'Map']\nNeighbourhoodInfo.drop(columns=['Map'], inplace=True)\nNeighbourhoodInfo.head()"
        }, 
        {
            "execution_count": 8, 
            "cell_type": "code", 
            "metadata": {}, 
            "outputs": [], 
            "source": "def GetCoordinates(Neigbourhood):\n    targetPage = r'https://en.wikipedia.org/wiki/{}'.format(Neigbourhood)\n    source = requests.get(targetPage).text\n    soup = BeautifulSoup(source, 'lxml')\n    text = soup.getText()\n    try:\n        coordinates = re.search(r'(\\d{2}.\\d{3,8})\u00b0N (\\d{2}.\\d{3,7})\u00b0W', text)\n        Coordinate = (Neigbourhood, coordinates.group(1), coordinates.group(2))\n    except:\n        Coordinate = (Neigbourhood, 0, 0)\n    return Coordinate"
        }, 
        {
            "execution_count": 9, 
            "cell_type": "code", 
            "metadata": {}, 
            "outputs": [
                {
                    "execution_count": 9, 
                    "metadata": {}, 
                    "data": {
                        "text/html": "<div>\n<style scoped>\n    .dataframe tbody tr th:only-of-type {\n        vertical-align: middle;\n    }\n\n    .dataframe tbody tr th {\n        vertical-align: top;\n    }\n\n    .dataframe thead th {\n        text-align: right;\n    }\n</style>\n<table border=\"1\" class=\"dataframe\">\n  <thead>\n    <tr style=\"text-align: right;\">\n      <th></th>\n      <th>NeighbourhoodId</th>\n      <th>Neighbourhood</th>\n      <th>Former city/borough</th>\n      <th>Neighbourhoods covered</th>\n      <th>Latitude</th>\n      <th>Longitude</th>\n    </tr>\n  </thead>\n  <tbody>\n    <tr>\n      <th>0</th>\n      <td>129</td>\n      <td>Agincourt North</td>\n      <td>Scarborough</td>\n      <td>Agincourt  and Brimwood</td>\n      <td>43.79250</td>\n      <td>-79.28389</td>\n    </tr>\n    <tr>\n      <th>1</th>\n      <td>128</td>\n      <td>Agincourt South-Malvern West</td>\n      <td>Scarborough</td>\n      <td>Agincourt  and  Malvern</td>\n      <td>0.00000</td>\n      <td>-0.00000</td>\n    </tr>\n    <tr>\n      <th>2</th>\n      <td>20</td>\n      <td>Alderwood</td>\n      <td>Etobicoke</td>\n      <td>Alderwood</td>\n      <td>0.00000</td>\n      <td>-0.00000</td>\n    </tr>\n    <tr>\n      <th>3</th>\n      <td>95</td>\n      <td>Annex</td>\n      <td>Old City of Toronto</td>\n      <td>The Annex  and  Seaton Village</td>\n      <td>0.00000</td>\n      <td>-0.00000</td>\n    </tr>\n    <tr>\n      <th>4</th>\n      <td>42</td>\n      <td>Banbury-Don Mills</td>\n      <td>North York</td>\n      <td>Don Mills</td>\n      <td>43.73722</td>\n      <td>-79.34333</td>\n    </tr>\n  </tbody>\n</table>\n</div>", 
                        "text/plain": "   NeighbourhoodId                 Neighbourhood  Former city/borough  \\\n0              129               Agincourt North          Scarborough   \n1              128  Agincourt South-Malvern West          Scarborough   \n2               20                     Alderwood            Etobicoke   \n3               95                         Annex  Old City of Toronto   \n4               42             Banbury-Don Mills           North York   \n\n           Neighbourhoods covered  Latitude  Longitude  \n0         Agincourt  and Brimwood  43.79250  -79.28389  \n1         Agincourt  and  Malvern   0.00000   -0.00000  \n2                       Alderwood   0.00000   -0.00000  \n3  The Annex  and  Seaton Village   0.00000   -0.00000  \n4                       Don Mills  43.73722  -79.34333  "
                    }, 
                    "output_type": "execute_result"
                }
            ], 
            "source": "NeighbourhoodInfo['out'] = NeighbourhoodInfo.Neighbourhood.apply(GetCoordinates)\nNeighbourhoodInfo[['tag','Latitude','Longitude']] = pd.DataFrame(NeighbourhoodInfo.out.values.tolist(), index= NeighbourhoodInfo.index)\nNeighbourhoodInfo.drop(columns=['out','tag'], inplace=True)\nNeighbourhoodInfo[['Longitude', 'Latitude']] = NeighbourhoodInfo[['Longitude', 'Latitude']].astype('float')\nNeighbourhoodInfo['Longitude']=-NeighbourhoodInfo['Longitude']\nNeighbourhoodInfo.sort_values('NeighbourhoodId')\nNeighbourhoodInfo.loc[NeighbourhoodInfo.Neighbourhood=='Eglinton East','NeighbourhoodId']=138 # Data Error in Wikipedia\nNeighbourhoodInfo.head()"
        }, 
        {
            "execution_count": 10, 
            "cell_type": "code", 
            "metadata": {}, 
            "outputs": [
                {
                    "execution_count": 10, 
                    "metadata": {}, 
                    "data": {
                        "text/html": "<div>\n<style scoped>\n    .dataframe tbody tr th:only-of-type {\n        vertical-align: middle;\n    }\n\n    .dataframe tbody tr th {\n        vertical-align: top;\n    }\n\n    .dataframe thead th {\n        text-align: right;\n    }\n</style>\n<table border=\"1\" class=\"dataframe\">\n  <thead>\n    <tr style=\"text-align: right;\">\n      <th></th>\n      <th>Neighbourhood</th>\n      <th>NeighbourhoodId</th>\n      <th>Designation</th>\n      <th>AlternateNeighbourhoodName</th>\n      <th>Latitude</th>\n      <th>Longitude</th>\n      <th>Former city/borough</th>\n      <th>Neighbourhoods covered</th>\n    </tr>\n  </thead>\n  <tbody>\n    <tr>\n      <th>0</th>\n      <td>City of Toronto</td>\n      <td>0</td>\n      <td>NaN</td>\n      <td>Toronto</td>\n      <td>43.70000</td>\n      <td>-79.40000</td>\n      <td>NaN</td>\n      <td>NaN</td>\n    </tr>\n    <tr>\n      <th>1</th>\n      <td>West Humber-Clairville</td>\n      <td>1</td>\n      <td>No Designation</td>\n      <td>West Humber-Clairville</td>\n      <td>43.74200</td>\n      <td>-79.61700</td>\n      <td>Etobicoke</td>\n      <td>NaN</td>\n    </tr>\n    <tr>\n      <th>2</th>\n      <td>Mount Olive-Silverstone-Jamestown</td>\n      <td>2</td>\n      <td>NIA</td>\n      <td>Mount Olive-Silverstone-Jamestown</td>\n      <td>43.73972</td>\n      <td>-79.58028</td>\n      <td>Etobicoke</td>\n      <td>Smithfield</td>\n    </tr>\n    <tr>\n      <th>3</th>\n      <td>Thistletown-Beaumond Heights</td>\n      <td>3</td>\n      <td>NIA</td>\n      <td>Thistletown-Beaumond Heights</td>\n      <td>43.73722</td>\n      <td>-79.56528</td>\n      <td>Etobicoke</td>\n      <td>NaN</td>\n    </tr>\n    <tr>\n      <th>4</th>\n      <td>Rexdale-Kipling</td>\n      <td>4</td>\n      <td>No Designation</td>\n      <td>Rexdale-Kipling</td>\n      <td>43.72194</td>\n      <td>-79.57194</td>\n      <td>Etobicoke</td>\n      <td>Rexdale</td>\n    </tr>\n  </tbody>\n</table>\n</div>", 
                        "text/plain": "                       Neighbourhood  NeighbourhoodId     Designation  \\\n0                    City of Toronto                0             NaN   \n1             West Humber-Clairville                1  No Designation   \n2  Mount Olive-Silverstone-Jamestown                2             NIA   \n3       Thistletown-Beaumond Heights                3             NIA   \n4                    Rexdale-Kipling                4  No Designation   \n\n          AlternateNeighbourhoodName  Latitude  Longitude Former city/borough  \\\n0                            Toronto  43.70000  -79.40000                 NaN   \n1             West Humber-Clairville  43.74200  -79.61700           Etobicoke   \n2  Mount Olive-Silverstone-Jamestown  43.73972  -79.58028           Etobicoke   \n3       Thistletown-Beaumond Heights  43.73722  -79.56528           Etobicoke   \n4                    Rexdale-Kipling  43.72194  -79.57194           Etobicoke   \n\n  Neighbourhoods covered  \n0                    NaN  \n1                    NaN  \n2             Smithfield  \n3                    NaN  \n4                Rexdale  "
                    }, 
                    "output_type": "execute_result"
                }
            ], 
            "source": "# The code was removed by Watson Studio for sharing."
        }, 
        {
            "source": "## 2.2 Data Preperation", 
            "cell_type": "markdown", 
            "metadata": {}
        }, 
        {
            "execution_count": 11, 
            "cell_type": "code", 
            "metadata": {}, 
            "outputs": [
                {
                    "execution_count": 11, 
                    "metadata": {}, 
                    "data": {
                        "text/plain": "array(['Neighbourhood Information', 'Population',\n       'Families, households and marital status', 'Language', 'Income',\n       'Immigration and citizenship', 'Aboriginal peoples',\n       'Visible minority', 'Ethnic origin', 'Housing', 'Education',\n       'Labour', 'Journey to work', 'Language of work', 'Mobility'], dtype=object)"
                    }, 
                    "output_type": "execute_result"
                }
            ], 
            "source": "# Unique Data Categories\nsource1.Category.unique()"
        }, 
        {
            "execution_count": 12, 
            "cell_type": "code", 
            "metadata": {
                "scrolled": false
            }, 
            "outputs": [
                {
                    "execution_count": 12, 
                    "metadata": {}, 
                    "data": {
                        "text/plain": "Index(['Category', 'Topic', 'Data Source', 'Characteristic', 'City of Toronto',\n       'Agincourt North', 'Agincourt South-Malvern West', 'Alderwood', 'Annex',\n       'Banbury-Don Mills',\n       ...\n       'Willowdale West', 'Willowridge-Martingrove-Richview', 'Woburn',\n       'Woodbine Corridor', 'Woodbine-Lumsden', 'Wychwood', 'Yonge-Eglinton',\n       'Yonge-St.Clair', 'York University Heights', 'Yorkdale-Glen Park'],\n      dtype='object', length=145)"
                    }, 
                    "output_type": "execute_result"
                }
            ], 
            "source": "# List of columns in the dataset \nsource1.columns"
        }, 
        {
            "source": "#### Create Neighbourhood List", 
            "cell_type": "markdown", 
            "metadata": {}
        }, 
        {
            "execution_count": 13, 
            "cell_type": "code", 
            "metadata": {}, 
            "outputs": [
                {
                    "execution_count": 13, 
                    "metadata": {}, 
                    "data": {
                        "text/html": "<div>\n<style scoped>\n    .dataframe tbody tr th:only-of-type {\n        vertical-align: middle;\n    }\n\n    .dataframe tbody tr th {\n        vertical-align: top;\n    }\n\n    .dataframe thead th {\n        text-align: right;\n    }\n</style>\n<table border=\"1\" class=\"dataframe\">\n  <thead>\n    <tr style=\"text-align: right;\">\n      <th></th>\n      <th>Neighbourhood</th>\n      <th>NeighbourhoodId</th>\n      <th>TSNS2020Designation</th>\n    </tr>\n  </thead>\n  <tbody>\n    <tr>\n      <th>0</th>\n      <td>City of Toronto</td>\n      <td>0</td>\n      <td>NaN</td>\n    </tr>\n    <tr>\n      <th>1</th>\n      <td>Agincourt North</td>\n      <td>129</td>\n      <td>No Designation</td>\n    </tr>\n    <tr>\n      <th>2</th>\n      <td>Agincourt South-Malvern West</td>\n      <td>128</td>\n      <td>No Designation</td>\n    </tr>\n    <tr>\n      <th>3</th>\n      <td>Alderwood</td>\n      <td>20</td>\n      <td>No Designation</td>\n    </tr>\n    <tr>\n      <th>4</th>\n      <td>Annex</td>\n      <td>95</td>\n      <td>No Designation</td>\n    </tr>\n  </tbody>\n</table>\n</div>", 
                        "text/plain": "                  Neighbourhood  NeighbourhoodId TSNS2020Designation\n0               City of Toronto                0                 NaN\n1               Agincourt North              129      No Designation\n2  Agincourt South-Malvern West              128      No Designation\n3                     Alderwood               20      No Designation\n4                         Annex               95      No Designation"
                    }, 
                    "output_type": "execute_result"
                }
            ], 
            "source": "NeighbourhoodList = list(source1.columns[4:].values)\nNeighbourhoodInformation = source1[source1.Category=='Neighbourhood Information'][NeighbourhoodList].transpose()\nNeighbourhoodInformation = NeighbourhoodInformation.reset_index()\nNeighbourhoodInformation.columns = ['Neighbourhood', 'NeighbourhoodId', 'TSNS2020Designation']\nNeighbourhoodInformation.loc[NeighbourhoodInformation.Neighbourhood=='City of Toronto', 'NeighbourhoodId'] = 0\nNeighbourhoodInformation['NeighbourhoodId'] = NeighbourhoodInformation['NeighbourhoodId'].astype('int')\nNeighbourhoodInformation.head()"
        }, 
        {
            "execution_count": 14, 
            "cell_type": "code", 
            "metadata": {}, 
            "outputs": [
                {
                    "execution_count": 14, 
                    "metadata": {}, 
                    "data": {
                        "text/html": "<div>\n<style scoped>\n    .dataframe tbody tr th:only-of-type {\n        vertical-align: middle;\n    }\n\n    .dataframe tbody tr th {\n        vertical-align: top;\n    }\n\n    .dataframe thead th {\n        text-align: right;\n    }\n</style>\n<table border=\"1\" class=\"dataframe\">\n  <thead>\n    <tr style=\"text-align: right;\">\n      <th></th>\n      <th>Neighbourhood</th>\n      <th>NeighbourhoodId</th>\n      <th>TSNS2020Designation</th>\n      <th>AlternateNeighbourhoodName</th>\n      <th>Latitude</th>\n      <th>Longitude</th>\n      <th>Former city/borough</th>\n      <th>Neighbourhoods covered</th>\n    </tr>\n  </thead>\n  <tbody>\n    <tr>\n      <th>0</th>\n      <td>City of Toronto</td>\n      <td>0</td>\n      <td>NaN</td>\n      <td>Toronto</td>\n      <td>43.7000</td>\n      <td>-79.400000</td>\n      <td>NaN</td>\n      <td>NaN</td>\n    </tr>\n    <tr>\n      <th>1</th>\n      <td>Agincourt North</td>\n      <td>129</td>\n      <td>No Designation</td>\n      <td>Agincourt North</td>\n      <td>43.7925</td>\n      <td>-79.283890</td>\n      <td>Scarborough</td>\n      <td>Agincourt  and Brimwood</td>\n    </tr>\n    <tr>\n      <th>2</th>\n      <td>Agincourt South-Malvern West</td>\n      <td>128</td>\n      <td>No Designation</td>\n      <td>Agincourt</td>\n      <td>43.7925</td>\n      <td>-79.283889</td>\n      <td>Scarborough</td>\n      <td>Agincourt  and  Malvern</td>\n    </tr>\n    <tr>\n      <th>3</th>\n      <td>Alderwood</td>\n      <td>20</td>\n      <td>No Designation</td>\n      <td>Alderwood</td>\n      <td>43.6075</td>\n      <td>-79.540280</td>\n      <td>Etobicoke</td>\n      <td>Alderwood</td>\n    </tr>\n    <tr>\n      <th>4</th>\n      <td>Annex</td>\n      <td>95</td>\n      <td>No Designation</td>\n      <td>The Annex</td>\n      <td>43.6700</td>\n      <td>-79.404000</td>\n      <td>Old City of Toronto</td>\n      <td>The Annex  and  Seaton Village</td>\n    </tr>\n  </tbody>\n</table>\n</div>", 
                        "text/plain": "                  Neighbourhood  NeighbourhoodId TSNS2020Designation  \\\n0               City of Toronto                0                 NaN   \n1               Agincourt North              129      No Designation   \n2  Agincourt South-Malvern West              128      No Designation   \n3                     Alderwood               20      No Designation   \n4                         Annex               95      No Designation   \n\n  AlternateNeighbourhoodName  Latitude  Longitude  Former city/borough  \\\n0                    Toronto   43.7000 -79.400000                  NaN   \n1            Agincourt North   43.7925 -79.283890          Scarborough   \n2                  Agincourt   43.7925 -79.283889          Scarborough   \n3                  Alderwood   43.6075 -79.540280            Etobicoke   \n4                  The Annex   43.6700 -79.404000  Old City of Toronto   \n\n           Neighbourhoods covered  \n0                             NaN  \n1         Agincourt  and Brimwood  \n2         Agincourt  and  Malvern  \n3                       Alderwood  \n4  The Annex  and  Seaton Village  "
                    }, 
                    "output_type": "execute_result"
                }
            ], 
            "source": "NeighbourhoodInformation = NeighbourhoodInformation.merge(NeighbourhoodCoordinateInfo[['NeighbourhoodId',  'AlternateNeighbourhoodName', 'Latitude', 'Longitude', 'Former city/borough', 'Neighbourhoods covered']], on='NeighbourhoodId',how='left')\nNeighbourhoodInformation.head()"
        }, 
        {
            "source": "### Map view", 
            "cell_type": "markdown", 
            "metadata": {}
        }, 
        {
            "execution_count": null, 
            "cell_type": "code", 
            "metadata": {}, 
            "outputs": [
                {
                    "output_type": "stream", 
                    "name": "stdout", 
                    "text": "Fetching package metadata ..."
                }
            ], 
            "source": "!conda install -c conda-forge folium=0.5.0 --yes # install folium. Uncomment and run if not installed"
        }, 
        {
            "execution_count": null, 
            "cell_type": "code", 
            "metadata": {}, 
            "outputs": [], 
            "source": "import folium\nimport matplotlib.cm as cm\nimport matplotlib.colors as colors"
        }, 
        {
            "source": "#### Custom function to mark a set of location data on a Folium map", 
            "cell_type": "markdown", 
            "metadata": {}
        }, 
        {
            "execution_count": null, 
            "cell_type": "code", 
            "metadata": {}, 
            "outputs": [], 
            "source": "# Mark locations on map and returns a  \"folium.folium.Map\" object\ndef MarkLocationsOnMap(c_lat, c_lon, VenueData, kclusters, l_Latitude, l_Longitude, l_Name, l_Cluster, l_ClusterLabel, zoom= 10, color= None, map_clusters=None):\n    \n    if map_clusters ==None:\n        map_clusters = folium.Map(location=[c_lat, c_lon], zoom_start=zoom)\n\n    # set color scheme for the clusters\n    x = np.arange(kclusters)\n    ys = [i+x+(i*x)**2 for i in range(kclusters)]\n    colors_array = cm.rainbow(np.linspace(0, 1, len(ys)))\n    rainbow = [colors.rgb2hex(i) for i in colors_array]\n\n    # add markers to the map\n    markers_colors = []\n    for lat, lon, poi, cluster, cluster_label in zip(VenueData[l_Latitude], VenueData[l_Longitude], VenueData[l_Name], VenueData[l_Cluster], VenueData[l_ClusterLabel]):\n        label = folium.Popup(str(poi) + '  (' + str(cluster_label) + ')', parse_html=True)\n        try:\n            if color==None:\n                colorx = rainbow[cluster-1]\n                fill_colorx=rainbow[cluster-1]\n            else:\n                colorx = color\n                fill_colorx = color\n        except:\n            colorx = '#000000'\n            fill_colorx = '#FFFFFF'            \n        folium.CircleMarker(\n            [lat, lon],\n            radius=5,\n            popup=label,\n            color=colorx,\n            fill=True,\n            fill_color=fill_colorx,\n            fill_opacity=0.6).add_to(map_clusters)\n    \n    return map_clusters"
        }, 
        {
            "execution_count": null, 
            "cell_type": "code", 
            "metadata": {
                "scrolled": true
            }, 
            "outputs": [], 
            "source": "# Set map center to Toronto city center\nc_lat = NeighbourhoodInformation[NeighbourhoodInformation.NeighbourhoodId==0]['Latitude'].values[0]\nc_lon = NeighbourhoodInformation[NeighbourhoodInformation.NeighbourhoodId==0]['Longitude'].values[0]\nkclusters = 140 # Number of neighbourhoods\n\nNeighbourhoodInformation['Latitude'], NeighbourhoodInformation['Longitude'], NeighbourhoodInformation['Neighbourhood'], NeighbourhoodInformation['NeighbourhoodId']\n\nmap_clustersx= MarkLocationsOnMap(c_lat, c_lon, NeighbourhoodInformation[NeighbourhoodInformation.NeighbourhoodId==0], kclusters, 'Latitude', 'Longitude', 'Neighbourhood', 'NeighbourhoodId', 'NeighbourhoodId', zoom= 15, color= '#000000', map_clusters=None)\nMarkLocationsOnMap(c_lat, c_lon, NeighbourhoodInformation[NeighbourhoodInformation.NeighbourhoodId>0], kclusters, 'Latitude', 'Longitude', 'Neighbourhood', 'NeighbourhoodId', 'NeighbourhoodId', zoom= 15, color= None, map_clusters=map_clustersx)"
        }, 
        {
            "source": "#### Extracting Neighbourhood data", 
            "cell_type": "markdown", 
            "metadata": {}
        }, 
        {
            "execution_count": null, 
            "cell_type": "code", 
            "metadata": {}, 
            "outputs": [], 
            "source": "# List of data records need to extract\nSourseDataFields = ['Topic', 'Characteristic'] + NeighbourhoodList"
        }, 
        {
            "execution_count": null, 
            "cell_type": "code", 
            "metadata": {}, 
            "outputs": [], 
            "source": "def ExtractData(Source, Category, ColumnsList=None):\n    DataSet = Source[Source.Category==Category][SourseDataFields].transpose()\n    DataSet.columns = DataSet.loc['Characteristic']\n    DataSet = DataSet.drop(index=['Topic', 'Characteristic'])\n    if ColumnsList != None:\n        DataSet = DataSet[ColumnsList]\n    return DataSet"
        }, 
        {
            "source": "##### Population", 
            "cell_type": "markdown", 
            "metadata": {}
        }, 
        {
            "execution_count": null, 
            "cell_type": "code", 
            "metadata": {}, 
            "outputs": [], 
            "source": "Population_col=['Population, 2016', 'Total private dwellings', 'Population density per square kilometre', 'Land area in square kilometres']\nAgeCategory_col = ['Children (0-14 years)', 'Youth (15-24 years)', 'Working Age (25-54 years)', 'Pre-retirement (55-64 years)', 'Seniors (65+ years)', 'Older Seniors (85+ years)']\n\nColumnsList = Population_col + AgeCategory_col\nPopulation = ExtractData(source1, 'Population', ColumnsList)\nPopulation.head()"
        }, 
        {
            "source": "##### Income", 
            "cell_type": "markdown", 
            "metadata": {}
        }, 
        {
            "execution_count": null, 
            "cell_type": "code", 
            "metadata": {}, 
            "outputs": [], 
            "source": "ColumnsList = [\"  Number of total income recipients aged 15 years and over in private households\", \"Total income: Aggregate amount ($'000)\", \"  Average after-tax income of households in 2015 ($)\"]\nIncome = ExtractData(source1, 'Income', ColumnsList)\nIncome.head()"
        }, 
        {
            "source": "##### EthnicOrigin", 
            "cell_type": "markdown", 
            "metadata": {}
        }, 
        {
            "execution_count": null, 
            "cell_type": "code", 
            "metadata": {}, 
            "outputs": [], 
            "source": "ColumnsList = ['\u00a0 North American Aboriginal origins', '\u00a0 Other North American origins', '\u00a0 European origins', '\u00a0 Latin; Central and South American origins', '\u00a0 African origins', '\u00a0 Asian origins', '\u00a0 Oceania origins']\nEthnicOrigin = ExtractData(source1, 'Ethnic origin', ColumnsList)\nEthnicOrigin.head()"
        }, 
        {
            "source": "##### Household", 
            "cell_type": "markdown", 
            "metadata": {}
        }, 
        {
            "execution_count": null, 
            "cell_type": "code", 
            "metadata": {}, 
            "outputs": [], 
            "source": "ColumnsList = [' Average household size', '  Married or living common law', 'Persons living alone (total)']\nHousehold = ExtractData(source1, 'Families, households and marital status', ColumnsList)\nHousehold.head()"
        }, 
        {
            "source": "##### Labour", 
            "cell_type": "markdown", 
            "metadata": {}
        }, 
        {
            "execution_count": null, 
            "cell_type": "code", 
            "metadata": {}, 
            "outputs": [], 
            "source": "ColumnsList = ['Employment rate']\nLabour = ExtractData(source1, 'Labour', ColumnsList)\nLabour.head()##### Population"
        }, 
        {
            "source": "##### Safety", 
            "cell_type": "markdown", 
            "metadata": {}
        }, 
        {
            "execution_count": null, 
            "cell_type": "code", 
            "metadata": {}, 
            "outputs": [], 
            "source": "# The code was removed by Watson Studio for sharing."
        }, 
        {
            "execution_count": null, 
            "cell_type": "code", 
            "metadata": {}, 
            "outputs": [], 
            "source": "Safety = pd.read_excel(streaming_body_1,sheet_name ='RawData-Ref Period 2011', header=1)\nSafety = Safety.set_index('Neighbourhood Id')[['Total Major Crime Incidents', 'Break & Enters', 'Robberies', 'Thefts']]\nSafety.head()"
        }, 
        {
            "source": "##### Economics", 
            "cell_type": "markdown", 
            "metadata": {}
        }, 
        {
            "execution_count": null, 
            "cell_type": "code", 
            "metadata": {}, 
            "outputs": [], 
            "source": "# The code was removed by Watson Studio for sharing."
        }, 
        {
            "execution_count": null, 
            "cell_type": "code", 
            "metadata": {}, 
            "outputs": [], 
            "source": "Economics = pd.read_excel(streaming_body_2,sheet_name ='RawData-Ref Period 2011', header=1)\nEconomics = Economics.set_index('Neighbourhood Id')[['Businesses', 'Debt Risk Score', 'Home Prices', 'Local Employment']]\nEconomics.head()"
        }, 
        {
            "source": "##### Transportation", 
            "cell_type": "markdown", 
            "metadata": {}
        }, 
        {
            "execution_count": null, 
            "cell_type": "code", 
            "metadata": {}, 
            "outputs": [], 
            "source": "# The code was removed by Watson Studio for sharing."
        }, 
        {
            "execution_count": null, 
            "cell_type": "code", 
            "metadata": {}, 
            "outputs": [], 
            "source": "Transportation = pd.read_excel(streaming_body_3,sheet_name ='RawData-Ref Period 2011', header=0)\nTransportation = Transportation.set_index('Neighbourhood Id')[['TTC Stops']]\nTransportation.head()"
        }, 
        {
            "source": "### 2.3 Creating the Base Dataset to further analysis and modeling", 
            "cell_type": "markdown", 
            "metadata": {}
        }, 
        {
            "execution_count": null, 
            "cell_type": "code", 
            "metadata": {}, 
            "outputs": [], 
            "source": "DataCategories = ['Population', 'Income', 'EthnicOrigin', 'Household', 'Labour', 'Safety', 'Economics', 'Transportation']\nPopulationVariables = list(Population.columns.values)\nIncomeVariables = list(Income.columns.values)\nEthnicOriginVariables = list(EthnicOrigin.columns.values)\nHouseholdVariables = list(Household.columns.values)\nLabourVariables = list(Labour.columns.values)\nSafetyVariables = list(Safety.columns.values)\nEconomicsVariables = list(Economics.columns.values)\nTransportationVariables = list(Transportation.columns.values)\n\nAllVariables = PopulationVariables+IncomeVariables+EthnicOriginVariables+HouseholdVariables+LabourVariables+SafetyVariables+EconomicsVariables+TransportationVariables"
        }, 
        {
            "execution_count": null, 
            "cell_type": "code", 
            "metadata": {}, 
            "outputs": [], 
            "source": "NeighbourhoodDataSet = NeighbourhoodInformation.merge(Population, left_on='Neighbourhood', right_index=True, how='left')\n# Merge with rest of the data sets\nNeighbourhoodDataSet = NeighbourhoodDataSet.merge(Income, left_on='Neighbourhood', right_index=True, how='left')\nNeighbourhoodDataSet = NeighbourhoodDataSet.merge(EthnicOrigin, left_on='Neighbourhood', right_index=True, how='left')\nNeighbourhoodDataSet = NeighbourhoodDataSet.merge(Household, left_on='Neighbourhood', right_index=True, how='left')\nNeighbourhoodDataSet = NeighbourhoodDataSet.merge(Labour, left_on='Neighbourhood', right_index=True, how='left')\n\nNeighbourhoodDataSet = NeighbourhoodDataSet.merge(Safety, left_on='NeighbourhoodId', right_index=True, how='left')\nNeighbourhoodDataSet = NeighbourhoodDataSet.merge(Economics, left_on='NeighbourhoodId', right_index=True, how='left')\nNeighbourhoodDataSet = NeighbourhoodDataSet.merge(Transportation, left_on='NeighbourhoodId', right_index=True, how='left')"
        }, 
        {
            "execution_count": null, 
            "cell_type": "code", 
            "metadata": {}, 
            "outputs": [], 
            "source": "#Convert all variables to numeric\nNeighbourhoodDataSet[AllVariables] = NeighbourhoodDataSet[AllVariables].astype('float')\n"
        }, 
        {
            "execution_count": null, 
            "cell_type": "code", 
            "metadata": {}, 
            "outputs": [], 
            "source": "# Construct Combined Fields\nNeighbourhoodDataSet['BreakEntersRobberiesThefts'] = NeighbourhoodDataSet['Break & Enters']+NeighbourhoodDataSet['Robberies']+NeighbourhoodDataSet['Thefts']\nNeighbourhoodDataSet['BuisnessTargetPopulation'] = NeighbourhoodDataSet['Youth (15-24 years)']+NeighbourhoodDataSet['Working Age (25-54 years)']+NeighbourhoodDataSet['Pre-retirement (55-64 years)']\nNeighbourhoodDataSet['Diversity'] = (NeighbourhoodDataSet['\\xa0 European origins']+NeighbourhoodDataSet['\\xa0 Latin; Central and South American origins']+NeighbourhoodDataSet['\\xa0 African origins']+NeighbourhoodDataSet['\\xa0 Asian origins']+NeighbourhoodDataSet['\\xa0 Oceania origins']) / (NeighbourhoodDataSet['\\xa0 North American Aboriginal origins']+NeighbourhoodDataSet['\\xa0 Other North American origins'])\n\nCombinedVariables = ['BreakEntersRobberiesThefts', 'BuisnessTargetPopulation', 'Diversity']"
        }, 
        {
            "execution_count": null, 
            "cell_type": "code", 
            "metadata": {}, 
            "outputs": [], 
            "source": "#Sperate city totals from Neighbourhood data\nCityDataSet = NeighbourhoodDataSet[NeighbourhoodDataSet.NeighbourhoodId==0]\nNeighbourhoodDataSet = NeighbourhoodDataSet[NeighbourhoodDataSet.NeighbourhoodId>0]"
        }, 
        {
            "execution_count": null, 
            "cell_type": "code", 
            "metadata": {}, 
            "outputs": [], 
            "source": "NeighbourhoodDataSet.head()"
        }, 
        {
            "execution_count": null, 
            "cell_type": "code", 
            "metadata": {}, 
            "outputs": [], 
            "source": "CityDataSet.head()"
        }, 
        {
            "source": "#### Saving the dataset", 
            "cell_type": "markdown", 
            "metadata": {}
        }, 
        {
            "execution_count": null, 
            "cell_type": "code", 
            "metadata": {}, 
            "outputs": [], 
            "source": "# The code was removed by Watson Studio for sharing."
        }, 
        {
            "source": "<hr/>", 
            "cell_type": "markdown", 
            "metadata": {}
        }, 
        {
            "source": "### 2.4 Exploring the area using Foursquare API (Source3: Venue dataset)", 
            "cell_type": "markdown", 
            "metadata": {}
        }, 
        {
            "execution_count": null, 
            "cell_type": "code", 
            "metadata": {}, 
            "outputs": [], 
            "source": "import json\nimport requests \nfrom pandas.io.json import json_normalize"
        }, 
        {
            "source": "####  Four Squre Credentials and URL", 
            "cell_type": "markdown", 
            "metadata": {}
        }, 
        {
            "execution_count": null, 
            "cell_type": "code", 
            "metadata": {}, 
            "outputs": [], 
            "source": "# The code was removed by Watson Studio for sharing."
        }, 
        {
            "source": "#### API Call returns JSON object resons : GetVenues(latitude, longitude, radius, limit, query)\nurl = 'https://api.foursquare.com/v2/venues/explore?&client_id={}&client_secret={}&v={}&ll={},{}&radius={}&limit={}'.format(\n    CLIENT_ID, \n    CLIENT_SECRET, \n    VERSION, \n    latitude, \n    longitude, \n    radius, \n    LIMIT)\n\nresults = requests.get(url).json()", 
            "cell_type": "markdown", 
            "metadata": {}
        }, 
        {
            "execution_count": null, 
            "cell_type": "code", 
            "metadata": {}, 
            "outputs": [], 
            "source": "# The code was removed by Watson Studio for sharing."
        }, 
        {
            "execution_count": null, 
            "cell_type": "code", 
            "metadata": {}, 
            "outputs": [], 
            "source": "def GetCategories(categoriesJSON):\n    try:\n        category = json_normalize(categoriesJSON[0])\n        category = category[category.primary==True]['shortName'].values[0]\n    except:\n        category = None\n    return category"
        }, 
        {
            "execution_count": null, 
            "cell_type": "code", 
            "metadata": {}, 
            "outputs": [], 
            "source": "def GetVenuesData(NeighbourhoodId, latitude, longitude, radius, limit, query):\n    print('Working on Neighbourhood {}'.format(NeighbourhoodId))\n    results = GetVenues(latitude, longitude, radius, limit, query)\n    venues = results['response']['groups'][0]['items']\n    VenuesDataSet = json_normalize(venues) # fConvert JASON to Pandas dataframe\n    try:\n        VenuesDataSet['venue.category']=VenuesDataSet['venue.categories'].apply(GetCategories)\n    except:\n        VenuesDataSet['venue.category'] = None\n    VenuesDataSet['NeighbourhoodId']=NeighbourhoodId\n    VenuesDataSet['query']=query\n    VenuesDataSet = VenuesDataSet.loc[:,VenuesDataSet.columns.isin(['NeighbourhoodId', 'query', 'venue.id', 'venue.name', 'venue.category', 'venue.location.lat', 'venue.location.lng', 'venue.location.postalCode', 'venue.photos.count'])]\n    return VenuesDataSet"
        }, 
        {
            "execution_count": null, 
            "cell_type": "code", 
            "metadata": {}, 
            "outputs": [], 
            "source": "# Test (Change format when needed)\nquery = 'Restaurant'\n\nNeighbourhood = 'Broadview North'\nd = NeighbourhoodDataSet[NeighbourhoodDataSet.Neighbourhood==Neighbourhood][['Neighbourhood', 'NeighbourhoodId', 'Latitude', 'Longitude', 'Land area in square kilometres']].values[0]\nlimit = 20\nNeighbourhoodId = d[1]\nlatitude =  d[2]\nlongitude = d[3]\nradius = np.sqrt(d[4]/np.pi)*1000 # Radius in meters approximated usin neighbourhood area\nradius = int(np.ceil(radius/100)*100) \nprint(NeighbourhoodId, latitude, longitude, radius, limit, query)\nRestaurants = GetVenuesData(NeighbourhoodId, latitude, longitude, radius, limit, query)\nRestaurants"
        }, 
        {
            "source": "#### Get data from venues of interest", 
            "cell_type": "markdown", 
            "metadata": {}
        }, 
        {
            "source": "#Create list \ndata = NeighbourhoodDataSet[['Neighbourhood', 'NeighbourhoodId', 'Latitude', 'Longitude', 'Land area in square kilometres']].values\n\n# API parameters\nlimit = 200 # limit of number of venues returned by Foursquare API", 
            "cell_type": "raw", 
            "metadata": {}
        }, 
        {
            "source": "##### Restaurant", 
            "cell_type": "markdown", 
            "metadata": {}
        }, 
        {
            "source": "# Change format to \"code\" to run a new API call\nquery = 'Restaurant'\nRestaurants = pd.DataFrame()\n\nfor d in data:\n    radius = np.sqrt(d[4]/np.pi)*1000 # Radius in Kilometers approximated usin neighbourhood area\n    radius = int(np.ceil(radius/100)*100)#### Restaurant\n    Restaurants = Restaurants.append(GetVenuesData(d[1], d[2], d[3], radius, limit, query))\nRestaurants.head()", 
            "cell_type": "raw", 
            "metadata": {}
        }, 
        {
            "source": "##### Grocery Store", 
            "cell_type": "markdown", 
            "metadata": {}
        }, 
        {
            "source": "# Change format to \"code\" to run a new API call\n\nquery = 'Grocery Store'\nGroceryStores = pd.DataFrame()\n\nfor d in data:\n    radius = np.sqrt(d[4]/np.pi)*1000 # Radius in Kilometers approximated usin neighbourhood area\n    radius = int(np.ceil(radius/100)*100)#### Restaurant\n    GroceryStores = GroceryStores.append(GetVenuesData(d[1], d[2], d[3], radius, limit, query))\nGroceryStores.head()", 
            "cell_type": "raw", 
            "metadata": {}
        }, 
        {
            "source": "##### Fun", 
            "cell_type": "markdown", 
            "metadata": {}
        }, 
        {
            "source": "# Change format to \"code\" to run a new API call\n\nquery = 'Fun'\nFunVenues = pd.DataFrame()\n\nfor d in data:\n#### Restaurant\n    FunVenues = FunVenues.append(GetVenuesData(d[1], d[2], d[3], radius, limit, query))\nFunVenues.head()    ", 
            "cell_type": "raw", 
            "metadata": {}
        }, 
        {
            "source": "##### Shopping", 
            "cell_type": "markdown", 
            "metadata": {}
        }, 
        {
            "source": "# Change format to \"code\" to run a new API call\n\nquery = 'Shopping'\nShoppingVenues = pd.DataFrame()\n\nfor d in data:\n    radius = np.sqrt(d[4]/np.pi)*1000 # Radius in Kilometers approximated usin neighbourhood area\n    radius = int(np.ceil(radius/100)*100)#### Restaurant\n    ShoppingVenues = ShoppingVenues.append(GetVenuesData(d[1], d[2], d[3], radius, limit, query))\nShoppingVenues.head()", 
            "cell_type": "raw", 
            "metadata": {}
        }, 
        {
            "source": "##### Parking", 
            "cell_type": "markdown", 
            "metadata": {}
        }, 
        {
            "source": "# Change format to \"code\" to run a new API call\n\nquery = 'Parking'\nParking = pd.DataFrame()\n\nfor d in data:\n    radius = np.sqrt(d[4]/np.pi)*1000 # Radius in Kilometers approximated usin neighbourhood area\n    radius = int(np.ceil(radius/100)*100)#### Restaurant\n    Parking = Parking.append(GetVenuesData(d[1], d[2], d[3], radius, limit, query))    \nParking.head()", 
            "cell_type": "raw", 
            "metadata": {}
        }, 
        {
            "source": "##### Hotel", 
            "cell_type": "markdown", 
            "metadata": {}
        }, 
        {
            "source": "# Change format to \"code\" to run a new API call\n\nquery = 'Hotel'\nHotels = pd.DataFrame()\n\nfor d in data:\n    radius = np.sqrt(d[4]/np.pi)*1000 # Radius in Kilometers approximated usin neighbourhood area\n    radius = int(np.ceil(radius/100)*100)#### Restaurant\n    Hotels = Hotels.append(GetVenuesData(d[1], d[2], d[3], radius, limit, query))    \nHotels.head()", 
            "cell_type": "raw", 
            "metadata": {}
        }, 
        {
            "source": "#### Combining Venue DataSets", 
            "cell_type": "markdown", 
            "metadata": {}
        }, 
        {
            "source": "# Combine Venuw Reocrds\nVenueDataSet = Restaurants.copy()\nVenueDataSet = VenueDataSet.append(GroceryStores, ignore_index=True)\nVenueDataSet = VenueDataSet.append(FunVenues, ignore_index=True)\nVenueDataSet = VenueDataSet.append(ShoppingVenues, ignore_index=True)\nVenueDataSet = VenueDataSet.append(Parking, ignore_index=True)\nVenueDataSet = VenueDataSet.append(Hotels, ignore_index=True)\nVenueDataSet.info()", 
            "cell_type": "raw", 
            "metadata": {}
        }, 
        {
            "source": "# @hidden_cell\n\nproject.save_data(data=Restaurants.to_csv(index=False),file_name='RestaurantsVenueDataSet_Raw.csv',overwrite=True)\nproject.save_data(data=GroceryStores.to_csv(index=False),file_name='GroceryStoresVenueDataSet_Raw.csv',overwrite=True)\nproject.save_data(data=FunVenues.to_csv(index=False),file_name='FunVenueDataSet_Raw.csv',overwrite=True)\nproject.save_data(data=ShoppingVenues.to_csv(index=False),file_name='ShoppingVenuesVenueDataSet_Raw.csv',overwrite=True)\nproject.save_data(data=Parking.to_csv(index=False),file_name='ParkingVenuesVenueDataSet_Raw.csv',overwrite=True)\nproject.save_data(data=Hotels.to_csv(index=False),file_name='HotelsVenuesVenueDataSet_Raw.csv',overwrite=True)\n\nproject.save_data(data=VenueDataSet.to_csv(index=False),file_name='VenueDataSet_Raw.csv',overwrite=True)\n", 
            "cell_type": "raw", 
            "metadata": {}
        }, 
        {
            "source": "#### Source3: Load pre extracted venue dataset\nA previously extracted dataset using above mentioned codes were used in the daat analysis", 
            "cell_type": "markdown", 
            "metadata": {}
        }, 
        {
            "execution_count": null, 
            "cell_type": "code", 
            "metadata": {}, 
            "outputs": [], 
            "source": "# The code was removed by Watson Studio for sharing."
        }, 
        {
            "execution_count": null, 
            "cell_type": "code", 
            "metadata": {}, 
            "outputs": [], 
            "source": "VenueDataSet = source3"
        }, 
        {
            "execution_count": null, 
            "cell_type": "code", 
            "metadata": {}, 
            "outputs": [], 
            "source": "VenueTypes = VenueDataSet['query'].unique()\nVenueDataSet['VenueType']=None\n\nfor n in range(len(VenueTypes)):\n    VenueDataSet.loc[VenueDataSet['query']==VenueTypes[n],'VenueType']= n+1\n\n#VenueDataSet.loc[:,'VenueType'] = n+1\nVenueDataSet.head()"
        }, 
        {
            "source": "#### Mark Neighbourhood venues on the map", 
            "cell_type": "markdown", 
            "metadata": {}
        }, 
        {
            "execution_count": null, 
            "cell_type": "code", 
            "metadata": {
                "scrolled": true
            }, 
            "outputs": [], 
            "source": "def MapNeighbourhood(SelectedNeighbourhoodId=None, SelectedNeighbourhoodName=None, NeighbourhoodDataSet=None, VenueDataSet=None, zoom= 10):\n    if SelectedNeighbourhoodId != None:\n        SelectedNeighbourhood = NeighbourhoodDataSet[NeighbourhoodDataSet.NeighbourhoodId== SelectedNeighbourhoodId]\n    elif SelectedNeighbourhoodName != None:\n        SelectedNeighbourhood = NeighbourhoodDataSet[NeighbourhoodDataSet.Neighbourhood== SelectedNeighbourhoodName]\n    else:\n        return None\n\n    # Number of clusters\n    kclusters = len(VenueDataSet['VenueType'].unique()) # Number of categories\n\n    # Set map center to Toronto city center\n    c_lat = SelectedNeighbourhood['Latitude'].values[0]\n    c_lon = SelectedNeighbourhood['Longitude'].values[0]\n\n    # Create the map plot\n    zoom= zoom\n    map_clusters_x = MarkLocationsOnMap(c_lat, c_lon, SelectedNeighbourhood, len(SelectedNeighbourhood.index), l_Latitude='Latitude', l_Longitude='Longitude', l_Name='Neighbourhood', l_Cluster='NeighbourhoodId', l_ClusterLabel='NeighbourhoodId', zoom= zoom, color='#000000')\n    MarkLocationsOnMap(c_lat, c_lon, VenueDataSet[VenueDataSet.NeighbourhoodId==SelectedNeighbourhood.NeighbourhoodId.values[0]], kclusters, l_Latitude='venue.location.lat', l_Longitude='venue.location.lng', l_Name='venue.name', l_Cluster='VenueType', l_ClusterLabel='venue.category', zoom= zoom, map_clusters=map_clusters_x)\n    \n    return map_clusters_x"
        }, 
        {
            "execution_count": null, 
            "cell_type": "code", 
            "metadata": {
                "scrolled": true
            }, 
            "outputs": [], 
            "source": "MapNeighbourhood(SelectedNeighbourhoodId=None, SelectedNeighbourhoodName='University', NeighbourhoodDataSet=NeighbourhoodDataSet, VenueDataSet=VenueDataSet, zoom= 15)"
        }, 
        {
            "source": "####  Counts of venues of interest by neighbourhood", 
            "cell_type": "markdown", 
            "metadata": {}
        }, 
        {
            "execution_count": null, 
            "cell_type": "code", 
            "metadata": {}, 
            "outputs": [], 
            "source": "VenuesCount = pd.pivot_table(VenueDataSet, index='NeighbourhoodId', columns='query', aggfunc='count', values='venue.id', margins=True)\nVenuesCount = VenuesCount.fillna(0).astype('int')\nVenueCountsVariables = list(VenuesCount.columns.values[:-1]) #Remove 'All'\nVenuesCount.sort_values('All', ascending=False).head()"
        }, 
        {
            "execution_count": null, 
            "cell_type": "code", 
            "metadata": {}, 
            "outputs": [], 
            "source": "VenuesCount['SupportiveVenues'] = VenuesCount['Parking'] + VenuesCount['Shopping'] + VenuesCount['Fun'] + VenuesCount['Hotel']\nVenuesCount['CompetitiveVenues'] =  VenuesCount['Grocery Store'] + VenuesCount['Restaurant']\n\nCombinedVariables = CombinedVariables+['SupportiveVenues', 'CompetitiveVenues']"
        }, 
        {
            "execution_count": null, 
            "cell_type": "code", 
            "metadata": {}, 
            "outputs": [], 
            "source": "NeighbourhoodDataSetToModel = NeighbourhoodDataSet.merge(VenuesCount[VenuesCount.index!='All'].drop(columns='All'), left_on='NeighbourhoodId', right_index=True, how='left')\nNeighbourhoodDataSetToModel.head()"
        }, 
        {
            "execution_count": null, 
            "cell_type": "code", 
            "metadata": {}, 
            "outputs": [], 
            "source": "NeighbourhoodDataSetToModel['NeighbourhoodLabel'] = \"[\"+ NeighbourhoodDataSetToModel['NeighbourhoodId'].astype('str')+\"] \"+NeighbourhoodDataSetToModel['Neighbourhood']\nNeighbourhoodDataSetToModel.head()"
        }, 
        {
            "source": "<hr/>", 
            "cell_type": "markdown", 
            "metadata": {}
        }, 
        {
            "source": "## 3. Exploratory Data Analysis", 
            "cell_type": "markdown", 
            "metadata": {}
        }, 
        {
            "execution_count": null, 
            "cell_type": "code", 
            "metadata": {}, 
            "outputs": [], 
            "source": "NeighbourhoodDataSetToModel_stat=NeighbourhoodDataSetToModel.describe()\nNeighbourhoodDataSetToModel_stat"
        }, 
        {
            "execution_count": null, 
            "cell_type": "code", 
            "metadata": {}, 
            "outputs": [], 
            "source": "import matplotlib.pyplot as plt"
        }, 
        {
            "execution_count": null, 
            "cell_type": "code", 
            "metadata": {}, 
            "outputs": [], 
            "source": "DataFields = ['Land area in square kilometres', 'Population, 2016', 'Employment rate', 'Businesses','Debt Risk Score', 'Home Prices', 'Local Employment', '  Number of total income recipients aged 15 years and over in private households', \"Total income: Aggregate amount ($'000)\",  '  Average after-tax income of households in 2015 ($)', ' Average household size', 'Total Major Crime Incidents', 'BreakEntersRobberiesThefts', \n'\\xa0 North American Aboriginal origins',  '\\xa0 Other North American origins', '\\xa0 European origins', '\\xa0 Latin; Central and South American origins', '\\xa0 African origins', '\\xa0 Asian origins', '\\xa0 Oceania origins']\nX=7\nY=3\nFigX=25 \nFigY=25\n"
        }, 
        {
            "execution_count": null, 
            "cell_type": "code", 
            "metadata": {}, 
            "outputs": [], 
            "source": "fig, axes = plt.subplots(X, Y,  figsize=(FigX, FigY))\nplt.subplots_adjust(wspace=0.3, hspace=0.6)\n\nfor i in range(X):\n    for j in range(Y):        \n        n = Y*i+j\n        try:\n            NeighbourhoodDataSetToModel[DataFields[n]].plot(kind='hist', rot=90, ax=axes[i,j]); axes[i,j].set_title(DataFields[n]);\n        except:\n            pass"
        }, 
        {
            "execution_count": null, 
            "cell_type": "code", 
            "metadata": {}, 
            "outputs": [], 
            "source": "fig, axes = plt.subplots(X, Y,  figsize=(FigX, FigY))\nplt.subplots_adjust(wspace=0.3, hspace=0.6)\n\nfor i in range(X):\n    for j in range(Y):        \n        n = Y*i+j\n        try:\n            NeighbourhoodDataSetToModel[DataFields[n]].plot(kind='kde', rot=90, ax=axes[i,j]); axes[i,j].set_title(DataFields[n]);\n        except:\n            pass"
        }, 
        {
            "execution_count": null, 
            "cell_type": "code", 
            "metadata": {}, 
            "outputs": [], 
            "source": "fig, axes = plt.subplots(X, Y,  figsize=(FigX, FigY))\nplt.subplots_adjust(wspace=0.3, hspace=0.6)\n\nfor i in range(X):\n    for j in range(Y):        \n        n = Y*i+j\n        try:\n            NeighbourhoodDataSetToModel[DataFields[n]].plot(kind='box', rot=0, ax=axes[i,j]); axes[i,j].set_title(DataFields[n]);\n        except:\n            pass"
        }, 
        {
            "execution_count": null, 
            "cell_type": "code", 
            "metadata": {}, 
            "outputs": [], 
            "source": "fig, axes = plt.subplots(X, Y,  figsize=(FigX, FigY))\nplt.subplots_adjust(wspace=0.3, hspace=0.6)\n\nTopN = 14\n\nfor i in range(X):\n    for j in range(Y):        \n        n = Y*i+j\n        try:\n            NeighbourhoodDataSetToModel.sort_values(DataFields[n], ascending=False).head(TopN).plot(x='NeighbourhoodId', y=DataFields[n], kind='bar', legend=False, rot=90, ax=axes[i,j]); axes[i,j].set_title(DataFields[n]);\n        except:\n            pass"
        }, 
        {
            "source": "def PlotDiversity(NeighbourhoodDataSetToModel, Neighbourhood):\n    SelectedNeighbourhood = NeighbourhoodDataSetToModel[NeighbourhoodDataSetToModel.Neighbourhood==Neighbourhood]\n    Neighbourhood = SelectedNeighbourhood.Neighbourhood.values[0]\n    return SelectedNeighbourhood[['\\xa0 North American Aboriginal origins',  '\\xa0 Other North American origins', '\\xa0 European origins', '\\xa0 Latin; Central and South American origins', '\\xa0 African origins', '\\xa0 Asian origins', '\\xa0 Oceania origins']].transpose().plot(kind='bar', legend =False, title=Neighbourhood)", 
            "cell_type": "raw", 
            "metadata": {}
        }, 
        {
            "source": "#### Distribution of Origins for selected neighbourhoods", 
            "cell_type": "markdown", 
            "metadata": {}
        }, 
        {
            "execution_count": null, 
            "cell_type": "code", 
            "metadata": {}, 
            "outputs": [], 
            "source": "Neighbourhoods = ['Bayview Village', 'Waterfront Communities-The Island', 'Niagara', 'Banbury-Don Mills', 'Willowdale East'] + ['Oakridge', 'Elms-Old Rexdale', 'Beechborough-Greenbrook', 'Blake-Jones', 'Rustic']\n\nX=2\nY=5\nFigX = 20\nFigY = 10\n\nfig, axes = plt.subplots(X, Y,  figsize=(FigX, FigY))\nplt.subplots_adjust(wspace=0.3, hspace=1.8)\n\nfor i in range(X):\n    for j in range(Y):        \n        n = Y*i+j\n        #print(i, j , n)\n        SelectedNeighbourhood = NeighbourhoodDataSetToModel[NeighbourhoodDataSetToModel.Neighbourhood==Neighbourhoods[n]][['\\xa0 North American Aboriginal origins',  '\\xa0 Other North American origins', '\\xa0 European origins', '\\xa0 Latin; Central and South American origins', '\\xa0 African origins', '\\xa0 Asian origins', '\\xa0 Oceania origins']].transpose()\n        SelectedNeighbourhood.plot(kind='bar', legend=False, rot=90, ax=axes[i,j]); axes[i,j].set_title(Neighbourhoods[n]);\n        "
        }, 
        {
            "source": "#### Distribution of population by age for selected neighbourhoods", 
            "cell_type": "markdown", 
            "metadata": {}
        }, 
        {
            "execution_count": null, 
            "cell_type": "code", 
            "metadata": {}, 
            "outputs": [], 
            "source": "Neighbourhoods = ['Bayview Village', 'Waterfront Communities-The Island', 'Niagara', 'Banbury-Don Mills', 'Willowdale East'] + ['Oakridge', 'Elms-Old Rexdale', 'Beechborough-Greenbrook', 'Blake-Jones', 'Rustic']\n\nX=2\nY=5\nFigX = 20\nFigY = 10\n\nfig, axes = plt.subplots(X, Y,  figsize=(FigX, FigY))\nplt.subplots_adjust(wspace=0.3, hspace=1.8)\n\nfor i in range(X):\n    for j in range(Y):        \n        n = Y*i+j\n        #print(i, j , n)\n        SelectedNeighbourhood = NeighbourhoodDataSetToModel[NeighbourhoodDataSetToModel.Neighbourhood==Neighbourhoods[n]][['Children (0-14 years)', 'Youth (15-24 years)', 'Working Age (25-54 years)', 'Pre-retirement (55-64 years)', 'Seniors (65+ years)', 'Older Seniors (85+ years)']\n].transpose()\n        SelectedNeighbourhood.plot(kind='bar', legend=False, rot=90, ax=axes[i,j]); axes[i,j].set_title(Neighbourhoods[n]);\n        "
        }, 
        {
            "source": "NeighbourhoodDataSetToModel.columns", 
            "cell_type": "raw", 
            "metadata": {}
        }, 
        {
            "source": "## 4. Clustering Neighbourhoods", 
            "cell_type": "markdown", 
            "metadata": {}
        }, 
        {
            "execution_count": null, 
            "cell_type": "code", 
            "metadata": {}, 
            "outputs": [], 
            "source": "# import k-means from clustering stage\nfrom sklearn.cluster import KMeans\n\n# set number of clusters\nkclusters = 5"
        }, 
        {
            "source": "### 4.1 Finding best number of clusters (k) using \"Sum of squared distances\" \nReference: https://scikit-learn.org/stable/modules/generated/sklearn.cluster.KMeans.html\n", 
            "cell_type": "markdown", 
            "metadata": {}
        }, 
        {
            "execution_count": null, 
            "cell_type": "code", 
            "metadata": {}, 
            "outputs": [], 
            "source": "from sklearn import metrics\nfrom scipy.spatial.distance import cdist"
        }, 
        {
            "execution_count": null, 
            "cell_type": "code", 
            "metadata": {}, 
            "outputs": [], 
            "source": "def SumOfSquaredDistances(Dataset, VariableList, max_k = 10):\n    ssqd=[]\n    k_list = []\n    for k in range(1, max_k):\n        kmeans = KMeans(n_clusters=k, max_iter=1000).fit(Dataset[AllVariables])\n        k_list.append(k)\n        ssqd.append(kmeans.inertia_)\n    k_list=np.array(k_list)\n    ssqd=np.array(ssqd)\n    return k_list, ssqd/np.max(ssqd)"
        }, 
        {
            "execution_count": null, 
            "cell_type": "code", 
            "metadata": {}, 
            "outputs": [], 
            "source": "plt.figure()\n#Population\nAllVariables = ['Population, 2016', 'BuisnessTargetPopulation', 'Diversity',  'Population density per square kilometre', 'Total private dwellings', ' Average household size'] \nk_list, ssqd = SumOfSquaredDistances(NeighbourhoodDataSetToModel, AllVariables)\nplt.plot(k_list, ssqd, \"o-\", label=\"Population\")\n\n#Economy\nAllVariables = ['Employment rate', 'Businesses','Debt Risk Score', 'Home Prices', 'Local Employment', '  Number of total income recipients aged 15 years and over in private households', \"Total income: Aggregate amount ($'000)\",  '  Average after-tax income of households in 2015 ($)'] \nk_list, ssqd = SumOfSquaredDistances(NeighbourhoodDataSetToModel, AllVariables)\nplt.plot(k_list, ssqd, \"o-\", label=\"Economy\")\n\n#Locality\nAllVariables = ['Population density per square kilometre', 'Land area in square kilometres', 'Businesses', 'TTC Stops', 'SupportiveVenues', 'CompetitiveVenues', 'Grocery Store', 'Restaurant', 'Diversity'] \nk_list, ssqd = SumOfSquaredDistances(NeighbourhoodDataSetToModel, AllVariables)\nplt.plot(k_list, ssqd, \"o-\", label=\"Locality\")\n                                     \n#Safty\nAllVariables = [ 'Total Major Crime Incidents',  'Break & Enters',  'Robberies',  'Thefts', 'BreakEntersRobberiesThefts'] \nk_list, ssqd = SumOfSquaredDistances(NeighbourhoodDataSetToModel, AllVariables)\nplt.plot(k_list, ssqd, \"o-\", label=\"Safty\")\n                                     \nplt.xlabel(\"Number of clusters (k)\")\nplt.ylabel(\"Sum of squared distances (Normalized)\")\nplt.legend()\nplt.show()"
        }, 
        {
            "execution_count": null, 
            "cell_type": "code", 
            "metadata": {}, 
            "outputs": [], 
            "source": "def ClusterNeighbourhoods(NeighbourhoodDataSetToModel, VariableList, ClusterColumn='Cluster Labels', kclusters=4):\n\n    # run k-means clustering\n    kmeans = KMeans(n_clusters=kclusters, random_state=0).fit(NeighbourhoodDataSetToModel[VariableList])\n\n    # check cluster labels generated for each row in the dataframe\n    kmeans.labels_[0:10] \n\n    NeighbourhoodDataSetToModel[ClusterColumn] = kmeans.labels_\n   \n    return NeighbourhoodDataSetToModel"
        }, 
        {
            "source": "##### Cluster by: All variables", 
            "cell_type": "markdown", 
            "metadata": {}
        }, 
        {
            "execution_count": null, 
            "cell_type": "code", 
            "metadata": {
                "scrolled": true
            }, 
            "outputs": [], 
            "source": "# set number of clusters\nkclusters = 4\n\n#Variable list\nAllVariables = PopulationVariables + IncomeVariables + EthnicOriginVariables + HouseholdVariables + LabourVariables + SafetyVariables + EconomicsVariables + TransportationVariables + VenueCountsVariables + CombinedVariables\n\nNeighbourhoodDataSetToModel_x = ClusterNeighbourhoods(NeighbourhoodDataSetToModel, AllVariables, ClusterColumn='Cluster Labels', kclusters=kclusters)\n\n# Set map center to Toronto city center\nc_lat = NeighbourhoodInformation[NeighbourhoodInformation.NeighbourhoodId==0]['Latitude'].values[0]\nc_lon = NeighbourhoodInformation[NeighbourhoodInformation.NeighbourhoodId==0]['Longitude'].values[0]\n\nmap_clustersx= MarkLocationsOnMap(c_lat, c_lon, NeighbourhoodInformation[NeighbourhoodInformation.NeighbourhoodId==0], kclusters, 'Latitude', 'Longitude', 'Neighbourhood', 'NeighbourhoodId', 'NeighbourhoodId', zoom= 10, color= '#000000', map_clusters=None)\nMarkLocationsOnMap(c_lat, c_lon, NeighbourhoodDataSetToModel_x, kclusters, 'Latitude', 'Longitude', 'Neighbourhood', 'Cluster Labels', 'NeighbourhoodId', zoom= 10, color= None, map_clusters=map_clustersx)"
        }, 
        {
            "source": "#### Cluster 1 (Population)", 
            "cell_type": "markdown", 
            "metadata": {}
        }, 
        {
            "execution_count": null, 
            "cell_type": "code", 
            "metadata": {
                "scrolled": true
            }, 
            "outputs": [], 
            "source": "kclusters = 4\n\n#Variable list\nAllVariables = ['Population, 2016', 'BuisnessTargetPopulation', 'Diversity',  'Population density per square kilometre', 'Total private dwellings', ' Average household size'] \n\nNeighbourhoodDataSetToModel_x = ClusterNeighbourhoods(NeighbourhoodDataSetToModel, AllVariables, ClusterColumn='Population_Cluster', kclusters=kclusters)\n\n# Set map center to Toronto city center\nc_lat = NeighbourhoodInformation[NeighbourhoodInformation.NeighbourhoodId==0]['Latitude'].values[0]\nc_lon = NeighbourhoodInformation[NeighbourhoodInformation.NeighbourhoodId==0]['Longitude'].values[0]\n\nmap_clustersx= MarkLocationsOnMap(c_lat, c_lon, NeighbourhoodInformation[NeighbourhoodInformation.NeighbourhoodId==0], kclusters, 'Latitude', 'Longitude', 'Neighbourhood', 'NeighbourhoodId', 'NeighbourhoodId', zoom= 10, color= '#000000', map_clusters=None)\nMarkLocationsOnMap(c_lat, c_lon, NeighbourhoodDataSetToModel_x, kclusters, 'Latitude', 'Longitude', 'NeighbourhoodLabel', 'Population_Cluster', 'Population_Cluster', zoom= 10, color= None, map_clusters=map_clustersx)"
        }, 
        {
            "source": "#### Cluster 2 (Economy)", 
            "cell_type": "markdown", 
            "metadata": {}
        }, 
        {
            "execution_count": null, 
            "cell_type": "code", 
            "metadata": {
                "scrolled": true
            }, 
            "outputs": [], 
            "source": "kclusters = 4\n\n#Variable list\nAllVariables = ['Employment rate', 'Businesses','Debt Risk Score', 'Home Prices', 'Local Employment', '  Number of total income recipients aged 15 years and over in private households', \"Total income: Aggregate amount ($'000)\",  '  Average after-tax income of households in 2015 ($)'] \n\nNeighbourhoodDataSetToModel_x = ClusterNeighbourhoods(NeighbourhoodDataSetToModel, AllVariables, ClusterColumn='Economy_Cluster', kclusters=kclusters)\n\n# Set map center to Toronto city center\nc_lat = NeighbourhoodInformation[NeighbourhoodInformation.NeighbourhoodId==0]['Latitude'].values[0]\nc_lon = NeighbourhoodInformation[NeighbourhoodInformation.NeighbourhoodId==0]['Longitude'].values[0]\n\nmap_clustersx= MarkLocationsOnMap(c_lat, c_lon, NeighbourhoodInformation[NeighbourhoodInformation.NeighbourhoodId==0], kclusters, 'Latitude', 'Longitude', 'Neighbourhood', 'NeighbourhoodId', 'NeighbourhoodId', zoom= 10, color= '#000000', map_clusters=None)\nMarkLocationsOnMap(c_lat, c_lon, NeighbourhoodDataSetToModel_x, kclusters, 'Latitude', 'Longitude', 'NeighbourhoodLabel', 'Economy_Cluster', 'Economy_Cluster', zoom= 10, color= None, map_clusters=map_clustersx)"
        }, 
        {
            "source": "#### Cluster 3 (Locality)", 
            "cell_type": "markdown", 
            "metadata": {}
        }, 
        {
            "execution_count": null, 
            "cell_type": "code", 
            "metadata": {
                "scrolled": true
            }, 
            "outputs": [], 
            "source": "kclusters = 4\n\n#Variable list\nAllVariables = ['Population density per square kilometre', 'Land area in square kilometres', 'Businesses', 'TTC Stops', 'SupportiveVenues', 'CompetitiveVenues', 'Grocery Store', 'Restaurant', 'Diversity'] \n\nNeighbourhoodDataSetToModel_x = ClusterNeighbourhoods(NeighbourhoodDataSetToModel, AllVariables, ClusterColumn='Locality_Cluster', kclusters=kclusters)\n\n# Set map center to Toronto city center\nc_lat = NeighbourhoodInformation[NeighbourhoodInformation.NeighbourhoodId==0]['Latitude'].values[0]\nc_lon = NeighbourhoodInformation[NeighbourhoodInformation.NeighbourhoodId==0]['Longitude'].values[0]\n\nmap_clustersx= MarkLocationsOnMap(c_lat, c_lon, NeighbourhoodInformation[NeighbourhoodInformation.NeighbourhoodId==0], kclusters, 'Latitude', 'Longitude', 'Neighbourhood', 'NeighbourhoodId', 'NeighbourhoodId', zoom= 10, color= '#000000', map_clusters=None)\nMarkLocationsOnMap(c_lat, c_lon, NeighbourhoodDataSetToModel_x, kclusters, 'Latitude', 'Longitude', 'NeighbourhoodLabel', 'Locality_Cluster', 'Locality_Cluster', zoom= 10, color= None, map_clusters=map_clustersx)"
        }, 
        {
            "source": "#### Cluster 4 (Safty)", 
            "cell_type": "markdown", 
            "metadata": {}
        }, 
        {
            "execution_count": null, 
            "cell_type": "code", 
            "metadata": {
                "scrolled": true
            }, 
            "outputs": [], 
            "source": "kclusters = 4\n\n#Variable list\nAllVariables = [ 'Total Major Crime Incidents',  'Break & Enters',  'Robberies',  'Thefts', 'BreakEntersRobberiesThefts'] \n\nNeighbourhoodDataSetToModel_x = ClusterNeighbourhoods(NeighbourhoodDataSetToModel, AllVariables, ClusterColumn='Safty_Cluster', kclusters=kclusters)\n\n# Set map center to Toronto city center\nc_lat = NeighbourhoodInformation[NeighbourhoodInformation.NeighbourhoodId==0]['Latitude'].values[0]\nc_lon = NeighbourhoodInformation[NeighbourhoodInformation.NeighbourhoodId==0]['Longitude'].values[0]\n\nmap_clustersx= MarkLocationsOnMap(c_lat, c_lon, NeighbourhoodInformation[NeighbourhoodInformation.NeighbourhoodId==0], kclusters, 'Latitude', 'Longitude', 'Neighbourhood', 'NeighbourhoodId', 'NeighbourhoodId', zoom= 10, color= '#000000', map_clusters=None)\nMarkLocationsOnMap(c_lat, c_lon, NeighbourhoodDataSetToModel_x, kclusters, 'Latitude', 'Longitude', 'NeighbourhoodLabel', 'Safty_Cluster', 'Safty_Cluster', zoom= 10, color= None, map_clusters=map_clustersx)"
        }, 
        {
            "execution_count": null, 
            "cell_type": "code", 
            "metadata": {
                "scrolled": true
            }, 
            "outputs": [], 
            "source": "AllVariables"
        }, 
        {
            "source": "##### Cluster by: SafetyVariables + EconomicsVariables + TransportationVariables + VenueCountsVariables", 
            "cell_type": "markdown", 
            "metadata": {}
        }, 
        {
            "execution_count": null, 
            "cell_type": "code", 
            "metadata": {
                "scrolled": true
            }, 
            "outputs": [], 
            "source": "kclusters = 4\n\nAllVariables = SafetyVariables + EconomicsVariables + TransportationVariables + VenueCountsVariables\n\nNeighbourhoodDataSetToModel_x = ClusterNeighbourhoods(NeighbourhoodDataSetToModel, AllVariables, ClusterColumn='Cluster Labels', kclusters=kclusters)\n\n# Set map center to Toronto city center\nc_lat = NeighbourhoodInformation[NeighbourhoodInformation.NeighbourhoodId==0]['Latitude'].values[0]\nc_lon = NeighbourhoodInformation[NeighbourhoodInformation.NeighbourhoodId==0]['Longitude'].values[0]\n\nmap_clustersx= MarkLocationsOnMap(c_lat, c_lon, NeighbourhoodInformation[NeighbourhoodInformation.NeighbourhoodId==0], kclusters, 'Latitude', 'Longitude', 'Neighbourhood', 'NeighbourhoodId', 'NeighbourhoodId', zoom= 10, color= '#000000', map_clusters=None)\nMarkLocationsOnMap(c_lat, c_lon, NeighbourhoodDataSetToModel_x, kclusters, 'Latitude', 'Longitude', 'Neighbourhood', 'Cluster Labels', 'NeighbourhoodId', zoom= 10, color= None, map_clusters=map_clustersx)"
        }, 
        {
            "source": "## 5. Rank Neighbourhoods", 
            "cell_type": "markdown", 
            "metadata": {}
        }, 
        {
            "execution_count": null, 
            "cell_type": "code", 
            "metadata": {}, 
            "outputs": [], 
            "source": "def RankDataSet(NeighbourhoodDataSetToModel, RankVariables):\n    for var in RankVariables:\n        NeighbourhoodDataSetToModel['Rank_{}'.format(var)] = NeighbourhoodDataSetToModel[var].rank(ascending=False).astype('int')\n    return NeighbourhoodDataSetToModel"
        }, 
        {
            "execution_count": null, 
            "cell_type": "code", 
            "metadata": {}, 
            "outputs": [], 
            "source": "AllVariables = PopulationVariables + IncomeVariables + EthnicOriginVariables + HouseholdVariables + LabourVariables + SafetyVariables + EconomicsVariables + TransportationVariables + VenueCountsVariables + CombinedVariables\nRankVariablesPositive = ['Population, 2016', 'BuisnessTargetPopulation', 'Diversity', 'SupportiveVenues', '  Average after-tax income of households in 2015 ($)', ' Average household size', 'Debt Risk Score',  'Employment rate', 'Local Employment', 'Businesses', '  Married or living common law', 'Persons living alone (total)']\nRankVariablesNegative = ['CompetitiveVenues', 'Home Prices', 'BreakEntersRobberiesThefts', 'Total Major Crime Incidents']\nRankVariablesUnsure = ['Grocery Store', 'Restaurant']\nRankVariables = RankVariablesPositive + RankVariablesNegative + RankVariablesUnsure"
        }, 
        {
            "execution_count": null, 
            "cell_type": "code", 
            "metadata": {}, 
            "outputs": [], 
            "source": "NeighbourhoodDataSetToModel_Ranked = RankDataSet(NeighbourhoodDataSetToModel, RankVariables)"
        }, 
        {
            "execution_count": null, 
            "cell_type": "code", 
            "metadata": {}, 
            "outputs": [], 
            "source": "NeighbourhoodDataSetToModel_Ranked['Score'] = NeighbourhoodDataSetToModel_Ranked[['{}_{}'.format(a, b) for b in RankVariablesPositive for a in ['Rank']]].sum(axis=1) - \\\nNeighbourhoodDataSetToModel_Ranked[['{}_{}'.format(a, b) for b in RankVariablesNegative for a in ['Rank']]].sum(axis=1)*2"
        }, 
        {
            "execution_count": null, 
            "cell_type": "code", 
            "metadata": {}, 
            "outputs": [], 
            "source": "#NeighbourhoodDataSetToModel_Ranked[['Neighbourhood', 'NeighbourhoodId', 'Population, 2016', 'Rank_Population, 2016']]\nNeighbourhoodDataSetToModel_Ranked['Rank'] = NeighbourhoodDataSetToModel_Ranked['Score'].rank(ascending=True).astype('int')\nNeighbourhoodDataSetToModel_Ranked[['Neighbourhood', 'NeighbourhoodId', 'Population, 2016', 'Score', 'Rank']].sort_values(by=['Rank']).head()"
        }, 
        {
            "execution_count": null, 
            "cell_type": "code", 
            "metadata": {}, 
            "outputs": [], 
            "source": "NeighbourhoodDataSetToModel_Ranked[['Neighbourhood', 'NeighbourhoodId', 'Population, 2016', 'Score', 'Rank']].sort_values(by=['Rank']).tail()"
        }, 
        {
            "execution_count": null, 
            "cell_type": "code", 
            "metadata": {
                "scrolled": true
            }, 
            "outputs": [], 
            "source": "kclusters = 140\n\n# Set map center to Toronto city center\nc_lat = NeighbourhoodInformation[NeighbourhoodInformation.NeighbourhoodId==0]['Latitude'].values[0]\nc_lon = NeighbourhoodInformation[NeighbourhoodInformation.NeighbourhoodId==0]['Longitude'].values[0]\n\nmap_clustersx= MarkLocationsOnMap(c_lat, c_lon, NeighbourhoodInformation[NeighbourhoodInformation.NeighbourhoodId==0], kclusters, 'Latitude', 'Longitude', 'Neighbourhood', 'NeighbourhoodId', 'NeighbourhoodId', zoom= 10, color= '#000000', map_clusters=None)\nMarkLocationsOnMap(c_lat, c_lon, NeighbourhoodDataSetToModel_Ranked, kclusters, 'Latitude', 'Longitude', 'NeighbourhoodLabel', 'Rank', 'Rank', zoom= 10, color= None, map_clusters=map_clustersx)"
        }, 
        {
            "source": "## 6. Explore High Ranked Neighbourhoods", 
            "cell_type": "markdown", 
            "metadata": {}
        }, 
        {
            "execution_count": null, 
            "cell_type": "code", 
            "metadata": {
                "scrolled": true
            }, 
            "outputs": [], 
            "source": "# Bayview Village\nMapNeighbourhood(SelectedNeighbourhoodId=52, SelectedNeighbourhoodName=None, NeighbourhoodDataSet=NeighbourhoodDataSet, VenueDataSet=VenueDataSet, zoom= 15)"
        }, 
        {
            "execution_count": null, 
            "cell_type": "code", 
            "metadata": {
                "scrolled": true
            }, 
            "outputs": [], 
            "source": "# Henry Farm\nMapNeighbourhood(SelectedNeighbourhoodId=53, SelectedNeighbourhoodName=None, NeighbourhoodDataSet=NeighbourhoodDataSet, VenueDataSet=VenueDataSet, zoom= 15)"
        }, 
        {
            "execution_count": null, 
            "cell_type": "code", 
            "metadata": {
                "scrolled": true
            }, 
            "outputs": [], 
            "source": "#88\tNiagara\nMapNeighbourhood(SelectedNeighbourhoodId=88, SelectedNeighbourhoodName=None, NeighbourhoodDataSet=NeighbourhoodDataSet, VenueDataSet=VenueDataSet, zoom= 15)"
        }, 
        {
            "execution_count": null, 
            "cell_type": "code", 
            "metadata": {
                "scrolled": false
            }, 
            "outputs": [], 
            "source": "#Blake-Jones\t\nMapNeighbourhood(SelectedNeighbourhoodId=69, SelectedNeighbourhoodName=None, NeighbourhoodDataSet=NeighbourhoodDataSet, VenueDataSet=VenueDataSet, zoom= 15)"
        }, 
        {
            "execution_count": null, 
            "cell_type": "code", 
            "metadata": {
                "scrolled": true
            }, 
            "outputs": [], 
            "source": "MapNeighbourhood(SelectedNeighbourhoodId=69, SelectedNeighbourhoodName=None, NeighbourhoodDataSet=NeighbourhoodDataSet, VenueDataSet=VenueDataSet, zoom= 15)"
        }, 
        {
            "execution_count": null, 
            "cell_type": "code", 
            "metadata": {}, 
            "outputs": [], 
            "source": "NeighbourhoodDataSetToModel_Ranked[['Neighbourhood', 'NeighbourhoodId', 'Population, 2016', 'Rank','Population_Cluster',\n       'Economy_Cluster', 'Locality_Cluster', 'Safty_Cluster',\n       'Rank_Population, 2016', 'Rank_BuisnessTargetPopulation',\n       'Rank_Diversity', 'Rank_SupportiveVenues',\n       'Rank_  Average after-tax income of households in 2015 ($)',\n       'Rank_ Average household size', 'Rank_Debt Risk Score',\n       'Rank_Employment rate', 'Rank_Local Employment', 'Rank_Businesses',\n       'Rank_  Married or living common law',\n       'Rank_Persons living alone (total)', 'Rank_CompetitiveVenues',\n       'Rank_Home Prices', 'Rank_BreakEntersRobberiesThefts',\n       'Rank_Total Major Crime Incidents', 'Rank_Grocery Store',\n       'Rank_Restaurant']].sort_values(by=['Rank'])"
        }, 
        {
            "execution_count": null, 
            "cell_type": "code", 
            "metadata": {}, 
            "outputs": [], 
            "source": "# The code was removed by Watson Studio for sharing."
        }, 
        {
            "source": "<hr/>\n\n<i>This notebook is created by Sumudu Tennakoon  <a href='https://github.com/sptennak/Coursera_Capstone'>[GitHub Link]</a> </i>\n\n<i> Last Update: 2018-01-03 </i>", 
            "cell_type": "markdown", 
            "metadata": {}
        }, 
        {
            "source": "Apache License\nVersion 2.0, January 2004\nhttp://www.apache.org/licenses/", 
            "cell_type": "markdown", 
            "metadata": {}
        }
    ], 
    "metadata": {
        "kernelspec": {
            "display_name": "Python 3.5", 
            "name": "python3", 
            "language": "python"
        }, 
        "language_info": {
            "mimetype": "text/x-python", 
            "nbconvert_exporter": "python", 
            "version": "3.5.5", 
            "name": "python", 
            "file_extension": ".py", 
            "pygments_lexer": "ipython3", 
            "codemirror_mode": {
                "version": 3, 
                "name": "ipython"
            }
        }
    }, 
    "nbformat": 4
}